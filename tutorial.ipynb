{
 "cells": [
  {
   "cell_type": "code",
   "execution_count": 1,
   "id": "5f0b3d65-cbdb-4242-96bc-3fe52306d68f",
   "metadata": {},
   "outputs": [
    {
     "name": "stdout",
     "output_type": "stream",
     "text": [
      "\n",
      "No atoms contribute to SMR_VSA7 (range 3.05 to 3.63).\n"
     ]
    },
    {
     "data": {
      "image/svg+xml": [
       "<svg xmlns=\"http://www.w3.org/2000/svg\" xmlns:rdkit=\"http://www.rdkit.org/xml\" xmlns:xlink=\"http://www.w3.org/1999/xlink\" version=\"1.1\" baseProfile=\"full\" xml:space=\"preserve\" width=\"500px\" height=\"500px\" viewBox=\"0 0 500 500\">\n",
       "<!-- END OF HEADER -->\n",
       "<rect style=\"opacity:1.0;fill:#FFFFFF;stroke:none\" width=\"500.0\" height=\"500.0\" x=\"0.0\" y=\"0.0\"> </rect>\n",
       "<ellipse cx=\"117.2\" cy=\"359.0\" rx=\"25.2\" ry=\"25.2\" class=\"atom-1\" style=\"fill:#00C600;fill-rule:evenodd;stroke:#00C600;stroke-width:1.0px;stroke-linecap:butt;stroke-linejoin:miter;stroke-opacity:1\"/>\n",
       "<ellipse cx=\"54.2\" cy=\"249.9\" rx=\"25.2\" ry=\"25.2\" class=\"atom-2\" style=\"fill:#00C600;fill-rule:evenodd;stroke:#00C600;stroke-width:1.0px;stroke-linecap:butt;stroke-linejoin:miter;stroke-opacity:1\"/>\n",
       "<ellipse cx=\"117.2\" cy=\"140.9\" rx=\"25.2\" ry=\"25.2\" class=\"atom-3\" style=\"fill:#00C600;fill-rule:evenodd;stroke:#00C600;stroke-width:1.0px;stroke-linecap:butt;stroke-linejoin:miter;stroke-opacity:1\"/>\n",
       "<path class=\"bond-0 atom-0 atom-1\" d=\"M 243.1,359.0 L 117.2,359.0\" style=\"fill:none;fill-rule:evenodd;stroke:#000000;stroke-width:2.0px;stroke-linecap:butt;stroke-linejoin:miter;stroke-opacity:1\"/>\n",
       "<path class=\"bond-1 atom-1 atom-2\" d=\"M 117.2,359.0 L 54.2,249.9\" style=\"fill:none;fill-rule:evenodd;stroke:#000000;stroke-width:2.0px;stroke-linecap:butt;stroke-linejoin:miter;stroke-opacity:1\"/>\n",
       "<path class=\"bond-2 atom-2 atom-3\" d=\"M 54.2,249.9 L 117.2,140.9\" style=\"fill:none;fill-rule:evenodd;stroke:#000000;stroke-width:2.0px;stroke-linecap:butt;stroke-linejoin:miter;stroke-opacity:1\"/>\n",
       "<path class=\"bond-3 atom-3 atom-4\" d=\"M 117.2,140.9 L 243.1,140.9\" style=\"fill:none;fill-rule:evenodd;stroke:#000000;stroke-width:2.0px;stroke-linecap:butt;stroke-linejoin:miter;stroke-opacity:1\"/>\n",
       "<path class=\"bond-4 atom-4 atom-5\" d=\"M 243.1,140.9 L 306.0,249.9\" style=\"fill:none;fill-rule:evenodd;stroke:#000000;stroke-width:2.0px;stroke-linecap:butt;stroke-linejoin:miter;stroke-opacity:1\"/>\n",
       "<path class=\"bond-5 atom-5 atom-6\" d=\"M 306.0,249.9 L 360.4,249.9\" style=\"fill:none;fill-rule:evenodd;stroke:#000000;stroke-width:2.0px;stroke-linecap:butt;stroke-linejoin:miter;stroke-opacity:1\"/>\n",
       "<path class=\"bond-5 atom-5 atom-6\" d=\"M 360.4,249.9 L 414.8,249.9\" style=\"fill:none;fill-rule:evenodd;stroke:#FF0000;stroke-width:2.0px;stroke-linecap:butt;stroke-linejoin:miter;stroke-opacity:1\"/>\n",
       "<path class=\"bond-6 atom-5 atom-0\" d=\"M 306.0,249.9 L 243.1,359.0\" style=\"fill:none;fill-rule:evenodd;stroke:#000000;stroke-width:2.0px;stroke-linecap:butt;stroke-linejoin:miter;stroke-opacity:1\"/>\n",
       "<path d=\"M 236.8,359.0 L 243.1,359.0 L 246.2,353.5\" style=\"fill:none;stroke:#000000;stroke-width:2.0px;stroke-linecap:butt;stroke-linejoin:miter;stroke-opacity:1;\"/>\n",
       "<path d=\"M 123.5,359.0 L 117.2,359.0 L 114.0,353.5\" style=\"fill:none;stroke:#000000;stroke-width:2.0px;stroke-linecap:butt;stroke-linejoin:miter;stroke-opacity:1;\"/>\n",
       "<path d=\"M 57.4,255.4 L 54.2,249.9 L 57.4,244.5\" style=\"fill:none;stroke:#000000;stroke-width:2.0px;stroke-linecap:butt;stroke-linejoin:miter;stroke-opacity:1;\"/>\n",
       "<path d=\"M 114.0,146.3 L 117.2,140.9 L 123.5,140.9\" style=\"fill:none;stroke:#000000;stroke-width:2.0px;stroke-linecap:butt;stroke-linejoin:miter;stroke-opacity:1;\"/>\n",
       "<path d=\"M 236.8,140.9 L 243.1,140.9 L 246.2,146.3\" style=\"fill:none;stroke:#000000;stroke-width:2.0px;stroke-linecap:butt;stroke-linejoin:miter;stroke-opacity:1;\"/>\n",
       "<path class=\"atom-6\" d=\"M 419.0 250.0 Q 419.0 243.2, 422.3 239.4 Q 425.7 235.6, 432.0 235.6 Q 438.2 235.6, 441.6 239.4 Q 445.0 243.2, 445.0 250.0 Q 445.0 256.9, 441.6 260.8 Q 438.2 264.7, 432.0 264.7 Q 425.7 264.7, 422.3 260.8 Q 419.0 256.9, 419.0 250.0 M 432.0 261.5 Q 436.3 261.5, 438.6 258.6 Q 441.0 255.7, 441.0 250.0 Q 441.0 244.4, 438.6 241.6 Q 436.3 238.8, 432.0 238.8 Q 427.6 238.8, 425.3 241.6 Q 423.0 244.4, 423.0 250.0 Q 423.0 255.7, 425.3 258.6 Q 427.6 261.5, 432.0 261.5 \" fill=\"#FF0000\"/>\n",
       "<path class=\"atom-6\" d=\"M 449.4 235.9 L 453.2 235.9 L 453.2 248.0 L 467.7 248.0 L 467.7 235.9 L 471.5 235.9 L 471.5 264.2 L 467.7 264.2 L 467.7 251.2 L 453.2 251.2 L 453.2 264.2 L 449.4 264.2 L 449.4 235.9 \" fill=\"#FF0000\"/>\n",
       "<path class=\"note\" d=\"M 253.6 384.5 Q 251.0 384.5, 249.7 382.5 Q 248.4 380.6, 248.4 377.2 Q 248.4 373.8, 249.7 371.9 Q 251.0 370.0, 253.6 370.0 Q 256.2 370.0, 257.5 371.9 Q 258.8 373.8, 258.8 377.2 Q 258.8 380.6, 257.5 382.5 Q 256.2 384.5, 253.6 384.5 M 253.6 382.9 Q 255.1 382.9, 255.9 381.4 Q 256.8 380.0, 256.8 377.2 Q 256.8 374.4, 255.9 373.0 Q 255.1 371.6, 253.6 371.6 Q 252.1 371.6, 251.2 373.0 Q 250.4 374.4, 250.4 377.2 Q 250.4 380.0, 251.2 381.4 Q 252.1 382.9, 253.6 382.9 \" fill=\"#000000\"/>\n",
       "<path class=\"note\" d=\"M 103.2 382.7 L 106.3 382.7 L 106.3 372.1 L 102.9 373.1 L 102.4 372.0 L 106.8 370.0 L 108.2 370.3 L 108.2 382.7 L 111.0 382.7 L 111.0 384.3 L 103.2 384.3 L 103.2 382.7 \" fill=\"#000000\"/>\n",
       "<path class=\"note\" d=\"M 28.5 245.6 Q 29.0 244.3, 30.3 243.5 Q 31.5 242.8, 33.2 242.8 Q 35.4 242.8, 36.6 243.9 Q 37.8 245.1, 37.8 247.1 Q 37.8 249.2, 36.2 251.2 Q 34.7 253.2, 31.5 255.5 L 38.0 255.5 L 38.0 257.1 L 28.5 257.1 L 28.5 255.7 Q 31.1 253.9, 32.7 252.5 Q 34.3 251.1, 35.0 249.8 Q 35.8 248.5, 35.8 247.2 Q 35.8 245.9, 35.1 245.1 Q 34.4 244.4, 33.2 244.4 Q 32.1 244.4, 31.3 244.8 Q 30.6 245.3, 30.0 246.3 L 28.5 245.6 \" fill=\"#000000\"/>\n",
       "<path class=\"note\" d=\"M 108.7 122.4 Q 110.1 122.8, 110.8 123.7 Q 111.4 124.6, 111.4 126.0 Q 111.4 127.2, 110.8 128.1 Q 110.2 129.0, 109.1 129.6 Q 108.0 130.1, 106.6 130.1 Q 105.1 130.1, 103.9 129.5 Q 102.8 129.0, 101.9 127.9 L 103.1 126.8 Q 103.9 127.7, 104.7 128.1 Q 105.4 128.5, 106.6 128.5 Q 107.9 128.5, 108.7 127.8 Q 109.4 127.1, 109.4 126.0 Q 109.4 124.5, 108.6 123.9 Q 107.8 123.2, 106.1 123.2 L 105.1 123.2 L 105.1 121.8 L 106.0 121.8 Q 107.5 121.8, 108.3 121.1 Q 109.1 120.4, 109.1 119.2 Q 109.1 118.2, 108.5 117.7 Q 107.8 117.1, 106.6 117.1 Q 105.4 117.1, 104.7 117.6 Q 104.0 118.0, 103.4 119.0 L 102.0 118.3 Q 102.5 117.1, 103.7 116.3 Q 104.9 115.5, 106.6 115.5 Q 108.7 115.5, 109.9 116.5 Q 111.1 117.5, 111.1 119.2 Q 111.1 120.3, 110.5 121.1 Q 109.9 121.9, 108.7 122.4 \" fill=\"#000000\"/>\n",
       "<path class=\"note\" d=\"M 257.3 124.9 L 259.0 124.9 L 259.0 126.5 L 257.3 126.5 L 257.3 129.8 L 255.5 129.8 L 255.5 126.5 L 248.1 126.5 L 248.1 125.3 L 254.3 115.6 L 257.3 115.6 L 257.3 124.9 M 250.5 124.9 L 255.5 124.9 L 255.5 116.9 L 250.5 124.9 \" fill=\"#000000\"/>\n",
       "<path class=\"note\" d=\"M 316.9 230.0 Q 318.1 230.0, 319.2 230.5 Q 320.2 231.0, 320.8 232.0 Q 321.3 233.0, 321.3 234.3 Q 321.3 235.8, 320.6 236.9 Q 319.9 237.9, 318.8 238.4 Q 317.6 239.0, 316.3 239.0 Q 315.0 239.0, 313.8 238.5 Q 312.6 238.0, 311.8 237.1 L 313.0 235.9 Q 313.6 236.6, 314.5 237.0 Q 315.4 237.4, 316.3 237.4 Q 317.6 237.4, 318.5 236.6 Q 319.3 235.8, 319.3 234.4 Q 319.3 232.9, 318.5 232.2 Q 317.6 231.5, 316.2 231.5 Q 315.0 231.5, 313.6 232.0 L 312.5 231.5 L 313.2 224.7 L 320.5 224.7 L 320.3 226.3 L 314.8 226.3 L 314.4 230.5 Q 315.7 230.0, 316.9 230.0 \" fill=\"#000000\"/>\n",
       "<path class=\"note\" d=\"M 453.6 284.6 Q 454.8 284.6, 455.8 285.1 Q 456.8 285.7, 457.3 286.6 Q 457.9 287.6, 457.9 288.9 Q 457.9 290.2, 457.2 291.3 Q 456.6 292.4, 455.6 293.0 Q 454.5 293.6, 453.1 293.6 Q 450.6 293.6, 449.3 291.9 Q 448.0 290.2, 448.0 286.8 Q 448.0 283.0, 449.6 281.1 Q 451.2 279.1, 454.2 279.1 Q 455.1 279.1, 455.8 279.3 Q 456.6 279.5, 457.3 279.9 L 456.5 281.3 Q 455.5 280.7, 454.2 280.7 Q 452.2 280.7, 451.2 282.0 Q 450.2 283.3, 450.1 285.9 Q 450.8 285.3, 451.7 284.9 Q 452.6 284.6, 453.6 284.6 M 453.1 291.9 Q 453.9 291.9, 454.5 291.5 Q 455.1 291.1, 455.5 290.4 Q 455.9 289.7, 455.9 288.9 Q 455.9 287.6, 455.2 286.9 Q 454.5 286.2, 453.2 286.2 Q 452.4 286.2, 451.5 286.5 Q 450.7 286.9, 450.1 287.5 Q 450.1 289.8, 450.9 290.9 Q 451.6 291.9, 453.1 291.9 \" fill=\"#000000\"/>\n",
       "</svg>"
      ],
      "text/plain": [
       "<IPython.core.display.SVG object>"
      ]
     },
     "metadata": {},
     "output_type": "display_data"
    },
    {
     "name": "stdout",
     "output_type": "stream",
     "text": [
      "\n",
      "### EState_VSA5 Contributions — Total: 19.2625\n",
      "Bin range: 1.1650 to 1.5400\n",
      "Idx Sym    Value     Contrib  % of total\n",
      "----------------------------------------\n",
      "1   C      1.237       6.421        33.3%\n",
      "2   C      1.330       6.421        33.3%\n",
      "3   C      1.237       6.421        33.3%\n"
     ]
    }
   ],
   "source": [
    "from vsa_explainer import visualize_vsa_contributions\n",
    "\n",
    "smiles = \"C1CCCCC1O\"\n",
    "visualize_vsa_contributions(smiles, [\"SMR_VSA7\", \"EState_VSA5\"])\n"
   ]
  },
  {
   "cell_type": "code",
   "execution_count": null,
   "id": "7075cab6-1288-42b1-b1db-99a0c305900a",
   "metadata": {},
   "outputs": [],
   "source": []
  }
 ],
 "metadata": {
  "kernelspec": {
   "display_name": "Python 3 (ipykernel)",
   "language": "python",
   "name": "python3"
  },
  "language_info": {
   "codemirror_mode": {
    "name": "ipython",
    "version": 3
   },
   "file_extension": ".py",
   "mimetype": "text/x-python",
   "name": "python",
   "nbconvert_exporter": "python",
   "pygments_lexer": "ipython3",
   "version": "3.9.18"
  }
 },
 "nbformat": 4,
 "nbformat_minor": 5
}
